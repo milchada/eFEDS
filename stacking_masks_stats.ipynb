{
 "cells": [
  {
   "cell_type": "code",
   "execution_count": 9,
   "id": "c54cf0de",
   "metadata": {},
   "outputs": [],
   "source": [
    "import numpy as np\n",
    "%matplotlib inline\n",
    "import matplotlib.pylab as plt\n",
    "from matplotlib import colors, cm\n",
    "from astropy.io import fits, ascii\n",
    "from astropy import units as u\n",
    "from astropy.coordinates import SkyCoord\n",
    "from astropy.cosmology import default_cosmology\n",
    "import glob"
   ]
  },
  {
   "cell_type": "code",
   "execution_count": 8,
   "id": "cb16ca7d",
   "metadata": {},
   "outputs": [],
   "source": [
    "lcdm = default_cosmology.get()"
   ]
  },
  {
   "cell_type": "code",
   "execution_count": 10,
   "id": "5b43da55",
   "metadata": {},
   "outputs": [],
   "source": [
    "sdss = ascii.read('sdss_catalog.csv')"
   ]
  },
  {
   "cell_type": "code",
   "execution_count": 14,
   "id": "585bfefa",
   "metadata": {},
   "outputs": [],
   "source": [
    "grpcat = fits.open('grp_cat.fits')[1].data"
   ]
  },
  {
   "cell_type": "code",
   "execution_count": 15,
   "id": "60fe12e1",
   "metadata": {},
   "outputs": [],
   "source": [
    "ptsrc = fits.open('ptsrc_cat.fits')[1].data\n",
    "ptsrc_lowsig = fits.open('ptsrc_lowsig.fits')[1].data"
   ]
  },
  {
   "cell_type": "code",
   "execution_count": 37,
   "id": "422d0f1d",
   "metadata": {},
   "outputs": [],
   "source": [
    "def make_regions(catalog, type='grp', maskrad_kpc=None, shape='circle'):\n",
    "    output = []\n",
    "    if type == 'gal':\n",
    "        ra = catalog['ra']*u.degree\n",
    "        dec = catalog['dec']*u.degree\n",
    "    elif type in ['grp', 'pts']:\n",
    "        ra = catalog['RA']*u.degree\n",
    "        dec = catalog['DEC']*u.degree\n",
    "    else:\n",
    "        print('Invalid type')\n",
    "    if type == 'pts':\n",
    "        rad = catalog['APE_RADIUS_s']*4*u.arcsec.to('arcmin')\n",
    "    elif type == 'grp':\n",
    "        rad = catalog['R_SNR_MAX_ARCMIN']*u.arcmin.to('arcmin')\n",
    "    else: \n",
    "        dA = lcdm.angular_diameter_distance(catalog['redshift'])\n",
    "        rad = maskrad_kpc/dA * u.radian.to('arcmin')\n",
    "    for (x, y, l) in zip(ra, dec, rad):\n",
    "        c = SkyCoord(x, y)\n",
    "        if shape == 'circle':\n",
    "            output.append(shape+\"(%s,%0.5f')\" % (c.to_string('hmsdms'),l))\n",
    "        elif shape == 'annulus':\n",
    "            output.append(shape+\"(%s,%0.5f',%0.5f')\" % (c.to_string('hmsdms'),1.5*l, 2.5*l))\n",
    "        else:\n",
    "            print('Invalid shape')\n",
    "    return output"
   ]
  },
  {
   "cell_type": "code",
   "execution_count": 38,
   "id": "24bf74d5",
   "metadata": {},
   "outputs": [],
   "source": [
    "grpmask = make_regions(grpcat, type='grp', shape='circle')"
   ]
  },
  {
   "cell_type": "code",
   "execution_count": 39,
   "id": "6d5e7924",
   "metadata": {},
   "outputs": [],
   "source": [
    "ptsmask = make_regions(ptsrc, type='pts', shape='circle')"
   ]
  },
  {
   "cell_type": "code",
   "execution_count": 40,
   "id": "1cfd6c25",
   "metadata": {},
   "outputs": [],
   "source": [
    "ptsmask_lowsig = make_regions(ptsrc_lowsig, type='pts')"
   ]
  },
  {
   "cell_type": "code",
   "execution_count": 47,
   "id": "fddbb981",
   "metadata": {},
   "outputs": [
    {
     "data": {
      "text/plain": [
       "(1371, 1482, 1161, 177, 3)"
      ]
     },
     "execution_count": 47,
     "metadata": {},
     "output_type": "execute_result"
    }
   ],
   "source": [
    "mass0 = [(sdss['logMass'] < 10.2)]\n",
    "mass1 = [(sdss['logMass'] > 10.2)*(sdss['logMass'] < 10.7)]\n",
    "mass2 = [(sdss['logMass'] > 10.7)*(sdss['logMass'] < 11.2)]\n",
    "mass3 = [(sdss['logMass'] > 11.2)*(sdss['logMass'] < 11.7)]\n",
    "mass4 = [(sdss['logMass'] > 11.7)]\n",
    "len(sdss[mass0]), len(sdss[mass1]), len(sdss[mass2]), len(sdss[mass3]), len(sdss[mass4])"
   ]
  },
  {
   "cell_type": "code",
   "execution_count": 50,
   "id": "fd2c16ab",
   "metadata": {},
   "outputs": [
    {
     "data": {
      "text/plain": [
       "(1e-42,\n",
       " 5.213192710430113e-10,\n",
       " 9.866869745258481e-11,\n",
       " 3.5342234815200725e-11,\n",
       " 1.3967821306190154e-10)"
      ]
     },
     "execution_count": 50,
     "metadata": {},
     "output_type": "execute_result"
    }
   ],
   "source": [
    "ssfr = 10**(sdss['ssfr'] - 9) #to go from Gyr^-1 to yr^-1\n",
    "ssfr.min(), ssfr.max(), ssfr.mean(), np.median(ssfr), np.std(ssfr)"
   ]
  },
  {
   "cell_type": "code",
   "execution_count": 62,
   "id": "96247600",
   "metadata": {},
   "outputs": [
    {
     "data": {
      "text/plain": [
       "Text(0, 0.5, 'N')"
      ]
     },
     "execution_count": 62,
     "metadata": {},
     "output_type": "execute_result"
    },
    {
     "data": {
      "image/png": "[encoded data removed]",
      "text/plain": [
       "<Figure size 432x288 with 1 Axes>"
      ]
     },
     "metadata": {
      "needs_background": "light"
     },
     "output_type": "display_data"
    }
   ],
   "source": [
    "hist, bins = np.histogram(np.log10(ssfr), bins=84, range=(-43,-1))\n",
    "plt.step(bins[1:], hist)\n",
    "plt.xlabel(r'log(sSFR (yr$^{-1}$))')\n",
    "plt.ylabel('N')"
   ]
  },
  {
   "cell_type": "code",
   "execution_count": 63,
   "id": "7c62a997",
   "metadata": {},
   "outputs": [
    {
     "data": {
      "text/plain": [
       "Text(0, 0.5, 'N')"
      ]
     },
     "execution_count": 63,
     "metadata": {},
     "output_type": "execute_result"
    },
    {
     "data": {
      "image/png": "[encoded data removed]",
      "text/plain": [
       "<Figure size 432x288 with 1 Axes>"
      ]
     },
     "metadata": {
      "needs_background": "light"
     },
     "output_type": "display_data"
    }
   ],
   "source": [
    "hist, bins = np.histogram(np.log10(ssfr*10**sdss['logMass']), bins=50, range=(-23,2))\n",
    "plt.step(bins[1:], hist)\n",
    "bins[np.argmax(hist)]\n",
    "plt.xlabel(r'log(SFR ($M_\\odot \\rm yr^{-1}$))')\n",
    "plt.ylabel('N')"
   ]
  },
  {
   "cell_type": "code",
   "execution_count": 66,
   "id": "e9660443",
   "metadata": {},
   "outputs": [
    {
     "data": {
      "text/plain": [
       "Text(0, 0.5, 'N')"
      ]
     },
     "execution_count": 66,
     "metadata": {},
     "output_type": "execute_result"
    },
    {
     "data": {
      "image/png": "[encoded data removed]",
      "text/plain": [
       "<Figure size 432x288 with 1 Axes>"
      ]
     },
     "metadata": {
      "needs_background": "light"
     },
     "output_type": "display_data"
    }
   ],
   "source": [
    "hist, bins = np.histogram(sdss['redshift'], bins=50)\n",
    "plt.step(bins[1:], hist)\n",
    "bins[np.argmax(hist)]\n",
    "plt.xlabel(r'z')\n",
    "plt.ylabel('N')"
   ]
  },
  {
   "cell_type": "code",
   "execution_count": 72,
   "id": "90ac2e4d",
   "metadata": {},
   "outputs": [
    {
     "data": {
      "text/plain": [
       "Text(0.5, 0, 'g')"
      ]
     },
     "execution_count": 72,
     "metadata": {},
     "output_type": "execute_result"
    },
    {
     "data": {
      "image/png": "[encoded data removed]",
      "text/plain": [
       "<Figure size 576x288 with 2 Axes>"
      ]
     },
     "metadata": {
      "needs_background": "light"
     },
     "output_type": "display_data"
    }
   ],
   "source": [
    "fig, (ax1, ax2) = plt.subplots(ncols = 2, figsize=(8,4))\n",
    "ax1.scatter( sdss['u'],sdss['u'] - sdss['g'])\n",
    "ax1.set_ylabel('u - g ')\n",
    "ax1.set_xlabel('u')\n",
    "ax2.scatter( sdss['g'],sdss['g'] - sdss['r'])\n",
    "ax2.set_ylabel('g - r ')\n",
    "ax2.set_xlabel('g')"
   ]
  },
  {
   "cell_type": "code",
   "execution_count": 88,
   "id": "e458d585",
   "metadata": {},
   "outputs": [
    {
     "data": {
      "text/plain": [
       "Text(0, 0.5, 'N')"
      ]
     },
     "execution_count": 88,
     "metadata": {},
     "output_type": "execute_result"
    },
    {
     "data": {
      "image/png": "[encoded data removed]",
      "text/plain": [
       "<Figure size 432x288 with 1 Axes>"
      ]
     },
     "metadata": {
      "needs_background": "light"
     },
     "output_type": "display_data"
    }
   ],
   "source": [
    "hist, bins = np.histogram(sdss['logMass'], bins=50)\n",
    "plt.step(bins[1:], hist)\n",
    "plt.bar(10.2, 500, 1.7, color='k', alpha=0.15, align='edge')\n",
    "plt.ylim(0,500)\n",
    "plt.xlabel(r'log(M$_*/M_\\odot$)')\n",
    "plt.ylabel('N')"
   ]
  },
  {
   "cell_type": "code",
   "execution_count": 101,
   "id": "959c41ef",
   "metadata": {},
   "outputs": [],
   "source": [
    "grpoutput = []\n",
    "for line in grpmask:\n",
    "    grpoutput.append (line.replace('h',':').replace('m',':').replace('s ',',').replace('s,',',').replace('\"','').replace('d',':'))\n",
    "\n",
    "ptoutput = []\n",
    "for line in ptsmask:\n",
    "    ptoutput.append(line.replace('h',':').replace('m',':').replace('s ',',').replace('s,',',').replace('\"','').replace('d',':'))\n",
    "    \n",
    "ptoutput_lowsig = []\n",
    "for line in ptsmask_lowsig:\n",
    "    ptoutput_lowsig.append(line.replace('h',':').replace('m',':').replace('s ',',').replace('s,',',').replace('\"','').replace('d',':'))"
   ]
  },
  {
   "cell_type": "code",
   "execution_count": 106,
   "id": "94a2473f",
   "metadata": {},
   "outputs": [],
   "source": [
    "with open('grp_cat.reg','w') as f:\n",
    "    f.writelines(grpoutput)\n",
    "    \n",
    "with open('ptsrc_cat.reg','w') as f:\n",
    "    f.writelines(ptoutput)\n",
    "    \n",
    "with open('ptsrc_cat_lowsig.reg','w') as f:\n",
    "    f.writelines(ptoutput_lowsig)"
   ]
  },
  {
   "cell_type": "code",
   "execution_count": null,
   "id": "dcff6878",
   "metadata": {},
   "outputs": [],
   "source": []
  }
 ],
 "metadata": {
  "kernelspec": {
   "display_name": "Python 3",
   "language": "python",
   "name": "python3"
  },
  "language_info": {
   "codemirror_mode": {
    "name": "ipython",
    "version": 3
   },
   "file_extension": ".py",
   "mimetype": "text/x-python",
   "name": "python",
   "nbconvert_exporter": "python",
   "pygments_lexer": "ipython3",
   "version": "3.9.5"
  }
 },
 "nbformat": 4,
 "nbformat_minor": 5
}
